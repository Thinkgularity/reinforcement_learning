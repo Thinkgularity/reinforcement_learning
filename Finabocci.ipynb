{
 "cells": [
  {
   "cell_type": "code",
   "execution_count": null,
   "id": "c9f11e3a-5a1a-434f-a00d-48fd5d60132f",
   "metadata": {},
   "outputs": [],
   "source": [
    "# Finabocci numbers\n",
    "def fibonacci(i: int) -> int:\n",
    "    a, b = 1, 1\n",
    "    for i in range(1, i):\n",
    "        a, b = b+a, a\n",
    "    return a\n",
    "    "
   ]
  },
  {
   "cell_type": "code",
   "execution_count": 9,
   "id": "0ace5543-fac5-4515-af27-04a4e908332b",
   "metadata": {},
   "outputs": [],
   "source": [
    "\n",
    "if __name__ == '__main__':\n",
    "    f0 = fibonacci(0)\n",
    "    assert(f0 == 1)\n",
    "    assert(fibonacci(1) == 1)\n",
    "    assert(fibonacci(2) == 2)"
   ]
  }
 ],
 "metadata": {
  "kernelspec": {
   "display_name": "Python 3 (ipykernel)",
   "language": "python",
   "name": "python3"
  },
  "language_info": {
   "codemirror_mode": {
    "name": "ipython",
    "version": 3
   },
   "file_extension": ".py",
   "mimetype": "text/x-python",
   "name": "python",
   "nbconvert_exporter": "python",
   "pygments_lexer": "ipython3",
   "version": "3.11.7"
  }
 },
 "nbformat": 4,
 "nbformat_minor": 5
}
